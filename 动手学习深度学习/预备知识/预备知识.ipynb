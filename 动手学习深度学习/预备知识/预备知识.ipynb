{
 "cells": [
  {
   "cell_type": "markdown",
   "source": [
    "# 数据操作"
   ],
   "metadata": {
    "collapsed": false
   }
  },
  {
   "cell_type": "code",
   "execution_count": 28,
   "outputs": [],
   "source": [
    "# 首先导入pytorch 虽然是pytorch 但是导入时是torch\n",
    "import torch"
   ],
   "metadata": {
    "collapsed": false,
    "ExecuteTime": {
     "start_time": "2023-05-14T23:33:59.141407Z",
     "end_time": "2023-05-14T23:33:59.278042Z"
    }
   }
  },
  {
   "cell_type": "markdown",
   "source": [
    "张量表示一个数值组成的数组,这个数组可能有多个维度,是一个多维数组，它是标量、向量、矩阵的高维拓展"
   ],
   "metadata": {
    "collapsed": false
   }
  },
  {
   "cell_type": "code",
   "execution_count": 29,
   "metadata": {
    "ExecuteTime": {
     "start_time": "2023-05-14T23:33:59.156368Z",
     "end_time": "2023-05-14T23:33:59.329903Z"
    }
   },
   "outputs": [
    {
     "data": {
      "text/plain": "tensor([ 0,  1,  2,  3,  4,  5,  6,  7,  8,  9, 10, 11])"
     },
     "execution_count": 29,
     "metadata": {},
     "output_type": "execute_result"
    }
   ],
   "source": [
    "x = torch.arange(12)\n",
    "x"
   ]
  },
  {
   "cell_type": "markdown",
   "source": [
    "我们可以通过张量的<font color=gray>shape</font>属性来访问张量(tensor)的形状和张量中元素的总数"
   ],
   "metadata": {
    "collapsed": false
   }
  },
  {
   "cell_type": "code",
   "execution_count": 30,
   "outputs": [
    {
     "data": {
      "text/plain": "torch.Size([12])"
     },
     "execution_count": 30,
     "metadata": {},
     "output_type": "execute_result"
    }
   ],
   "source": [
    "x.shape"
   ],
   "metadata": {
    "collapsed": false,
    "ExecuteTime": {
     "start_time": "2023-05-14T23:33:59.177311Z",
     "end_time": "2023-05-14T23:33:59.330900Z"
    }
   }
  },
  {
   "cell_type": "code",
   "execution_count": 31,
   "outputs": [
    {
     "data": {
      "text/plain": "12"
     },
     "execution_count": 31,
     "metadata": {},
     "output_type": "execute_result"
    }
   ],
   "source": [
    "x.numel() # 获取元素的总数"
   ],
   "metadata": {
    "collapsed": false,
    "ExecuteTime": {
     "start_time": "2023-05-14T23:33:59.184293Z",
     "end_time": "2023-05-14T23:33:59.331898Z"
    }
   }
  },
  {
   "cell_type": "markdown",
   "source": [
    "要改变一个张量的形状而不改变元素数量和元素的值,可以调用reshape函数"
   ],
   "metadata": {
    "collapsed": false
   }
  },
  {
   "cell_type": "code",
   "execution_count": 32,
   "outputs": [
    {
     "data": {
      "text/plain": "tensor([[ 0,  1,  2,  3],\n        [ 4,  5,  6,  7],\n        [ 8,  9, 10, 11]])"
     },
     "execution_count": 32,
     "metadata": {},
     "output_type": "execute_result"
    }
   ],
   "source": [
    "x = x.reshape(3, 4)\n",
    "x"
   ],
   "metadata": {
    "collapsed": false,
    "ExecuteTime": {
     "start_time": "2023-05-14T23:33:59.202244Z",
     "end_time": "2023-05-14T23:33:59.332895Z"
    }
   }
  },
  {
   "cell_type": "markdown",
   "source": [
    "通过提供包含数值的python列表(或者列表)来为所需张量中的每个元素赋予确定值"
   ],
   "metadata": {
    "collapsed": false
   }
  },
  {
   "cell_type": "code",
   "execution_count": 33,
   "outputs": [
    {
     "data": {
      "text/plain": "tensor([[2, 1, 4, 3],\n        [1, 2, 3, 4],\n        [4, 3, 2, 1]])"
     },
     "execution_count": 33,
     "metadata": {},
     "output_type": "execute_result"
    }
   ],
   "source": [
    "torch.tensor([[2,1,4,3],[1,2,3,4],[4,3,2,1]])"
   ],
   "metadata": {
    "collapsed": false,
    "ExecuteTime": {
     "start_time": "2023-05-14T23:33:59.216208Z",
     "end_time": "2023-05-14T23:33:59.333892Z"
    }
   }
  },
  {
   "cell_type": "markdown",
   "source": [
    "常见的标准运算符(+ - / * 或 **)都可以升级为<mark>按元素运算</mark>"
   ],
   "metadata": {
    "collapsed": false
   }
  },
  {
   "cell_type": "code",
   "execution_count": 34,
   "outputs": [
    {
     "data": {
      "text/plain": "(tensor([ 3.,  4.,  6., 10.]),\n tensor([-1.,  0.,  2.,  6.]),\n tensor([ 2.,  4.,  8., 16.]),\n tensor([0.5000, 1.0000, 2.0000, 4.0000]),\n tensor([ 1.,  4., 16., 64.]))"
     },
     "execution_count": 34,
     "metadata": {},
     "output_type": "execute_result"
    }
   ],
   "source": [
    "x = torch.tensor([1.0,2,4,8])\n",
    "y = torch.tensor([2,2,2,2])\n",
    "x + y,x - y,x * y,x / y, x ** y"
   ],
   "metadata": {
    "collapsed": false,
    "ExecuteTime": {
     "start_time": "2023-05-14T23:33:59.235157Z",
     "end_time": "2023-05-14T23:33:59.344862Z"
    }
   }
  },
  {
   "cell_type": "markdown",
   "source": [
    "也可以把多个张量连结在一起"
   ],
   "metadata": {
    "collapsed": false
   }
  },
  {
   "cell_type": "code",
   "execution_count": 35,
   "outputs": [
    {
     "data": {
      "text/plain": "(tensor([[ 0.,  1.,  2.,  3.],\n         [ 4.,  5.,  6.,  7.],\n         [ 8.,  9., 10., 11.],\n         [ 2.,  1.,  4.,  3.],\n         [ 1.,  2.,  3.,  4.],\n         [ 4.,  3.,  2.,  1.]]),\n tensor([[ 0.,  1.,  2.,  3.,  2.,  1.,  4.,  3.],\n         [ 4.,  5.,  6.,  7.,  1.,  2.,  3.,  4.],\n         [ 8.,  9., 10., 11.,  4.,  3.,  2.,  1.]]))"
     },
     "execution_count": 35,
     "metadata": {},
     "output_type": "execute_result"
    }
   ],
   "source": [
    "X = torch.arange(12, dtype=torch.float32).reshape(3, 4)\n",
    "Y = torch.tensor([[2.0,1,4,3],[1,2,3,4],[4,3,2,1]])\n",
    "torch.cat((X,Y),dim = 0), torch.cat((X,Y), dim=1)\n",
    "# dim 第n位"
   ],
   "metadata": {
    "collapsed": false,
    "ExecuteTime": {
     "start_time": "2023-05-14T23:33:59.251114Z",
     "end_time": "2023-05-14T23:33:59.345860Z"
    }
   }
  },
  {
   "cell_type": "markdown",
   "source": [
    "通过逻辑运算符构建二元张量"
   ],
   "metadata": {
    "collapsed": false
   }
  },
  {
   "cell_type": "code",
   "execution_count": 36,
   "outputs": [
    {
     "data": {
      "text/plain": "tensor([[False,  True, False,  True],\n        [False, False, False, False],\n        [False, False, False, False]])"
     },
     "execution_count": 36,
     "metadata": {},
     "output_type": "execute_result"
    }
   ],
   "source": [
    "X==Y"
   ],
   "metadata": {
    "collapsed": false,
    "ExecuteTime": {
     "start_time": "2023-05-14T23:33:59.265076Z",
     "end_time": "2023-05-14T23:33:59.347855Z"
    }
   }
  },
  {
   "cell_type": "markdown",
   "source": [
    "对张量中的所有元素进行求和会产生一个只有一个元素的张量"
   ],
   "metadata": {
    "collapsed": false
   }
  },
  {
   "cell_type": "code",
   "execution_count": 37,
   "outputs": [
    {
     "data": {
      "text/plain": "tensor(66.)"
     },
     "execution_count": 37,
     "metadata": {},
     "output_type": "execute_result"
    }
   ],
   "source": [
    "X.sum()"
   ],
   "metadata": {
    "collapsed": false,
    "ExecuteTime": {
     "start_time": "2023-05-14T23:33:59.280037Z",
     "end_time": "2023-05-14T23:33:59.347855Z"
    }
   }
  },
  {
   "cell_type": "markdown",
   "source": [
    "就算形状不同,我们仍然可以调用 广播机制 (broadcasting mechanism)来直行按元素操作"
   ],
   "metadata": {
    "collapsed": false
   }
  },
  {
   "cell_type": "code",
   "execution_count": 38,
   "outputs": [
    {
     "data": {
      "text/plain": "(tensor([[0],\n         [1],\n         [2]]),\n tensor([[0, 1]]))"
     },
     "execution_count": 38,
     "metadata": {},
     "output_type": "execute_result"
    }
   ],
   "source": [
    "a = torch.arange(3).reshape((3,1)) # a复制成3*2的矩阵，b也如此\n",
    "b = torch.arange(2).reshape((1,2))\n",
    "a, b"
   ],
   "metadata": {
    "collapsed": false,
    "ExecuteTime": {
     "start_time": "2023-05-14T23:33:59.296992Z",
     "end_time": "2023-05-14T23:33:59.347855Z"
    }
   }
  },
  {
   "cell_type": "code",
   "execution_count": 39,
   "outputs": [
    {
     "data": {
      "text/plain": "tensor([[0, 1],\n        [1, 2],\n        [2, 3]])"
     },
     "execution_count": 39,
     "metadata": {},
     "output_type": "execute_result"
    }
   ],
   "source": [
    "a + b"
   ],
   "metadata": {
    "collapsed": false,
    "ExecuteTime": {
     "start_time": "2023-05-14T23:33:59.311952Z",
     "end_time": "2023-05-14T23:33:59.347855Z"
    }
   }
  },
  {
   "cell_type": "markdown",
   "source": [
    "可以用[-1]选择最后一个元素.[1:3]选择第二个和第三个元素"
   ],
   "metadata": {
    "collapsed": false
   }
  },
  {
   "cell_type": "code",
   "execution_count": 40,
   "outputs": [
    {
     "data": {
      "text/plain": "(tensor([ 8.,  9., 10., 11.]),\n tensor([[ 4.,  5.,  6.,  7.],\n         [ 8.,  9., 10., 11.]]))"
     },
     "execution_count": 40,
     "metadata": {},
     "output_type": "execute_result"
    }
   ],
   "source": [
    "X[-1],X[1:3] # 第一行和第二行的元素"
   ],
   "metadata": {
    "collapsed": false,
    "ExecuteTime": {
     "start_time": "2023-05-14T23:33:59.326912Z",
     "end_time": "2023-05-14T23:33:59.348852Z"
    }
   }
  },
  {
   "cell_type": "markdown",
   "source": [
    "除了读取之外,我们还可以通过指定索引将元素写入矩阵"
   ],
   "metadata": {
    "collapsed": false
   }
  },
  {
   "cell_type": "code",
   "execution_count": 42,
   "outputs": [
    {
     "data": {
      "text/plain": "tensor([[ 0.,  1.,  2.,  3.],\n        [ 4.,  5.,  9.,  7.],\n        [ 8.,  9., 10., 11.]])"
     },
     "execution_count": 42,
     "metadata": {},
     "output_type": "execute_result"
    }
   ],
   "source": [
    "X[1,2] = 9\n",
    "X"
   ],
   "metadata": {
    "collapsed": false,
    "ExecuteTime": {
     "start_time": "2023-05-14T23:35:34.884550Z",
     "end_time": "2023-05-14T23:35:34.919456Z"
    }
   }
  },
  {
   "cell_type": "markdown",
   "source": [
    "给多个元素赋值,只要索引所有元素然后给他们赋值就行了"
   ],
   "metadata": {
    "collapsed": false
   }
  },
  {
   "cell_type": "code",
   "execution_count": 44,
   "outputs": [
    {
     "data": {
      "text/plain": "tensor([[666., 666., 666., 666.],\n        [666., 666., 666., 666.],\n        [  8.,   9.,  10.,  11.]])"
     },
     "execution_count": 44,
     "metadata": {},
     "output_type": "execute_result"
    }
   ],
   "source": [
    "X[0:2,:] = 666\n",
    "X"
   ],
   "metadata": {
    "collapsed": false,
    "ExecuteTime": {
     "start_time": "2023-05-14T23:37:44.584513Z",
     "end_time": "2023-05-14T23:37:44.620905Z"
    }
   }
  },
  {
   "cell_type": "markdown",
   "source": [
    "运行一些操作可能会导致为新结果分配内存,python本身不用考虑内存问题,但是新操作可能会出现"
   ],
   "metadata": {
    "collapsed": false
   }
  },
  {
   "cell_type": "code",
   "execution_count": 45,
   "outputs": [
    {
     "data": {
      "text/plain": "False"
     },
     "execution_count": 45,
     "metadata": {},
     "output_type": "execute_result"
    }
   ],
   "source": [
    "before = id(Y) # id就好像指针，标识号\n",
    "Y = Y + X\n",
    "id(Y) == before"
   ],
   "metadata": {
    "collapsed": false,
    "ExecuteTime": {
     "start_time": "2023-05-14T23:40:10.737635Z",
     "end_time": "2023-05-14T23:40:10.748034Z"
    }
   }
  },
  {
   "cell_type": "markdown",
   "source": [
    "执行原地操作\n",
    "torch.zeros():返回一个形状为为size,类型为torch.dtype，里面的每一个值都是0的tensor"
   ],
   "metadata": {
    "collapsed": false
   }
  },
  {
   "cell_type": "code",
   "execution_count": 46,
   "outputs": [
    {
     "name": "stdout",
     "output_type": "stream",
     "text": [
      "id(Z): 2677168971248\n",
      "id(Z): 2677168971248\n"
     ]
    }
   ],
   "source": [
    "Z = torch.zeros_like(Y) # 和Y的元素类型一样\n",
    "print ('id(Z):', id(Z))\n",
    "Z[:] = X + Y\n",
    "print('id(Z):', id(Z))"
   ],
   "metadata": {
    "collapsed": false,
    "ExecuteTime": {
     "start_time": "2023-05-14T23:42:49.939325Z",
     "end_time": "2023-05-14T23:42:49.975228Z"
    }
   }
  },
  {
   "cell_type": "markdown",
   "source": [
    "如果在后续计算中没有重复使用x，我们也可以使用X[:] = X +Y或X += Y来减少操作的内存开销\n"
   ],
   "metadata": {
    "collapsed": false
   }
  },
  {
   "cell_type": "code",
   "execution_count": 47,
   "outputs": [
    {
     "data": {
      "text/plain": "True"
     },
     "execution_count": 47,
     "metadata": {},
     "output_type": "execute_result"
    }
   ],
   "source": [
    "before = id(X)\n",
    "X += Y\n",
    "id(X) == before"
   ],
   "metadata": {
    "collapsed": false,
    "ExecuteTime": {
     "start_time": "2023-05-14T23:45:13.810145Z",
     "end_time": "2023-05-14T23:45:13.847043Z"
    }
   }
  },
  {
   "cell_type": "markdown",
   "source": [
    "转换为Numpy张量"
   ],
   "metadata": {
    "collapsed": false
   }
  },
  {
   "cell_type": "code",
   "execution_count": 49,
   "outputs": [
    {
     "data": {
      "text/plain": "(numpy.ndarray, torch.Tensor)"
     },
     "execution_count": 49,
     "metadata": {},
     "output_type": "execute_result"
    }
   ],
   "source": [
    "A = X.numpy()\n",
    "B = torch.tensor(A)\n",
    "type(A), type(B)"
   ],
   "metadata": {
    "collapsed": false,
    "ExecuteTime": {
     "start_time": "2023-05-14T23:46:30.990932Z",
     "end_time": "2023-05-14T23:46:31.029827Z"
    }
   }
  },
  {
   "cell_type": "markdown",
   "source": [
    "将大小为1的张量转换为Python标量"
   ],
   "metadata": {
    "collapsed": false
   }
  },
  {
   "cell_type": "code",
   "execution_count": 50,
   "outputs": [
    {
     "data": {
      "text/plain": "(tensor([3.5000]), 3.5, 3.5, 3)"
     },
     "execution_count": 50,
     "metadata": {},
     "output_type": "execute_result"
    }
   ],
   "source": [
    "a = torch.tensor([3.5])\n",
    "a, a.item(), float(a), int(a) # item 取出单元素张量的元素值并返回该值，保持该元素类型不变。"
   ],
   "metadata": {
    "collapsed": false,
    "ExecuteTime": {
     "start_time": "2023-05-14T23:47:38.412418Z",
     "end_time": "2023-05-14T23:47:38.446327Z"
    }
   }
  }
 ],
 "metadata": {
  "kernelspec": {
   "display_name": "Python 3 (ipykernel)",
   "language": "python",
   "name": "python3"
  },
  "language_info": {
   "codemirror_mode": {
    "name": "ipython",
    "version": 3
   },
   "file_extension": ".py",
   "mimetype": "text/x-python",
   "name": "python",
   "nbconvert_exporter": "python",
   "pygments_lexer": "ipython3",
   "version": "3.10.9"
  }
 },
 "nbformat": 4,
 "nbformat_minor": 1
}
