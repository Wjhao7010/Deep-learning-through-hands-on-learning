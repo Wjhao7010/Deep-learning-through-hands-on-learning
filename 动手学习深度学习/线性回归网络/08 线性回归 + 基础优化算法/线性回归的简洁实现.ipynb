{
 "cells": [
  {
   "cell_type": "markdown",
   "source": [
    "# 通过使用深度学习框架来简洁地实现 线性回归模型 生成数据集"
   ],
   "metadata": {
    "collapsed": false
   }
  },
  {
   "cell_type": "code",
   "execution_count": 1,
   "metadata": {
    "collapsed": true,
    "ExecuteTime": {
     "start_time": "2023-05-26T22:08:42.918580Z",
     "end_time": "2023-05-26T22:08:46.351679Z"
    }
   },
   "outputs": [],
   "source": [
    "import numpy as np\n",
    "import  torch\n",
    "from torch.utils import data\n",
    "from d2l import torch as d2l\n",
    "\n",
    "true_w = torch.tensor([2, -3.4])\n",
    "true_b = 4.2\n",
    "features, labels = d2l.synthetic_data(true_w, true_b, 1000)"
   ]
  },
  {
   "cell_type": "markdown",
   "source": [
    "调用框架中现有的API来读取数据,features和labels作为API的参数传递，并通过数据迭代器指定batch_size,布尔值is_train表示是否希望数据迭代器对象在每个迭代周期内打乱数据"
   ],
   "metadata": {
    "collapsed": false
   }
  },
  {
   "cell_type": "code",
   "execution_count": 4,
   "outputs": [
    {
     "data": {
      "text/plain": "[tensor([[ 0.5533, -1.3179],\n         [-1.4095, -1.9095],\n         [ 0.5070,  0.9571],\n         [ 1.4586, -1.3796],\n         [ 1.4516, -0.4831],\n         [ 0.2781, -0.1334],\n         [ 0.0961,  0.5555],\n         [-0.1886, -1.2585],\n         [ 0.4601,  0.0167],\n         [-2.3172, -1.5602]]),\n tensor([[ 9.8040],\n         [ 7.8721],\n         [ 1.9456],\n         [11.7989],\n         [ 8.7279],\n         [ 5.2076],\n         [ 2.5078],\n         [ 8.1014],\n         [ 5.0627],\n         [ 4.8670]])]"
     },
     "execution_count": 4,
     "metadata": {},
     "output_type": "execute_result"
    }
   ],
   "source": [
    "def load_array(data_arrays, batch_size, is_train=True):\n",
    "    # 构造一个PyTorch数据迭代器\n",
    "    dataset = data.TensorDataset(*data_arrays)\n",
    "    return data.DataLoader(dataset, batch_size, shuffle = is_train)\n",
    "\n",
    "batch_size = 10\n",
    "data_iter = load_array((features, labels), batch_size)\n",
    "next(iter(data_iter))"
   ],
   "metadata": {
    "collapsed": false,
    "ExecuteTime": {
     "start_time": "2023-05-26T22:13:21.056719Z",
     "end_time": "2023-05-26T22:13:21.069683Z"
    }
   }
  },
  {
   "cell_type": "markdown",
   "source": [
    "使用框架的预定义好的层"
   ],
   "metadata": {
    "collapsed": false
   }
  },
  {
   "cell_type": "code",
   "execution_count": 8,
   "outputs": [],
   "source": [
    "# nn是神经网络的缩写\n",
    "from torch import nn\n",
    "net = nn.Sequential(nn.Linear(2,1)) # 输入2 输出1"
   ],
   "metadata": {
    "collapsed": false,
    "ExecuteTime": {
     "start_time": "2023-05-26T22:21:17.677511Z",
     "end_time": "2023-05-26T22:21:17.692471Z"
    }
   }
  },
  {
   "cell_type": "markdown",
   "source": [
    "初始化模型参数"
   ],
   "metadata": {
    "collapsed": false
   }
  },
  {
   "cell_type": "code",
   "execution_count": 7,
   "outputs": [
    {
     "data": {
      "text/plain": "tensor([0.])"
     },
     "execution_count": 7,
     "metadata": {},
     "output_type": "execute_result"
    }
   ],
   "source": [
    "net[0].weight.data.normal_(0, 0.01)\n",
    "net[0].bias.data.fill_(0)"
   ],
   "metadata": {
    "collapsed": false,
    "ExecuteTime": {
     "start_time": "2023-05-26T22:17:28.547235Z",
     "end_time": "2023-05-26T22:17:28.558206Z"
    }
   }
  },
  {
   "cell_type": "markdown",
   "source": [
    "定义损失函数:计算均方误差使用的是MSELoss类，也称为平方$L_2$范数,默认情况下，它返回所有样本损失的平均值"
   ],
   "metadata": {
    "collapsed": false
   }
  },
  {
   "cell_type": "code",
   "execution_count": 10,
   "outputs": [],
   "source": [
    "loss = nn.MSELoss()"
   ],
   "metadata": {
    "collapsed": false,
    "ExecuteTime": {
     "start_time": "2023-05-26T22:24:58.896746Z",
     "end_time": "2023-05-26T22:24:58.900735Z"
    }
   }
  },
  {
   "cell_type": "markdown",
   "source": [
    "定义优化算法实例化SGD,只需要设置lr值，这里设置为0.03"
   ],
   "metadata": {
    "collapsed": false
   }
  },
  {
   "cell_type": "code",
   "execution_count": 11,
   "outputs": [],
   "source": [
    "trainer = torch.optim.SGD(net.parameters(), lr=0.03)"
   ],
   "metadata": {
    "collapsed": false,
    "ExecuteTime": {
     "start_time": "2023-05-26T22:28:42.681667Z",
     "end_time": "2023-05-26T22:28:42.688628Z"
    }
   }
  },
  {
   "cell_type": "markdown",
   "source": [
    "训练过程代码与我们从零开始实现时所做的非常相似,在每个迭代周期里，我们将完整遍历一次数据集（train_data），不停地从中获取一个小批量的输入和相应的标签。对于每一个小批量，我们会进行以下步骤:\n",
    "通过调用net(X)生成预测并计算损失l（前向传播）。\n",
    "通过进行反向传播来计算梯度。\n",
    "通过调用优化器来更新模型参数。\n",
    "为了更好的衡量训练效果，我们计算每个迭代周期后的损失，并打印它来监控训练过程"
   ],
   "metadata": {
    "collapsed": false
   }
  },
  {
   "cell_type": "code",
   "execution_count": 13,
   "outputs": [
    {
     "name": "stdout",
     "output_type": "stream",
     "text": [
      "epoch 1, loss 0.000101\n",
      "epoch 2, loss 0.000102\n",
      "epoch 3, loss 0.000101\n"
     ]
    }
   ],
   "source": [
    "num_epochs = 3\n",
    "for epoch in range(num_epochs):\n",
    "    for X, y in data_iter:\n",
    "        l = loss(net(X) ,y)\n",
    "        trainer.zero_grad() # 梯度清零\n",
    "        l.backward()\n",
    "        trainer.step()\n",
    "    l = loss(net(features), labels)\n",
    "    print(f'epoch {epoch + 1}, loss {l:f}')"
   ],
   "metadata": {
    "collapsed": false,
    "ExecuteTime": {
     "start_time": "2023-05-26T22:38:23.142391Z",
     "end_time": "2023-05-26T22:38:23.307949Z"
    }
   }
  },
  {
   "cell_type": "markdown",
   "source": [
    "比较生成数据集的真实参数和通过有限数据训练获得的模型参数"
   ],
   "metadata": {
    "collapsed": false
   }
  },
  {
   "cell_type": "code",
   "execution_count": 14,
   "outputs": [
    {
     "name": "stdout",
     "output_type": "stream",
     "text": [
      "w的估计误差： tensor([-4.1986e-04,  2.6941e-05])\n",
      "b的估计误差： tensor([-0.0003])\n"
     ]
    }
   ],
   "source": [
    "w = net[0].weight.data\n",
    "print('w的估计误差：', true_w - w.reshape(true_w.shape))\n",
    "b = net[0].bias.data\n",
    "print('b的估计误差：', true_b - b)"
   ],
   "metadata": {
    "collapsed": false,
    "ExecuteTime": {
     "start_time": "2023-05-26T22:47:27.428447Z",
     "end_time": "2023-05-26T22:47:27.441592Z"
    }
   }
  }
 ],
 "metadata": {
  "kernelspec": {
   "display_name": "Python 3",
   "language": "python",
   "name": "python3"
  },
  "language_info": {
   "codemirror_mode": {
    "name": "ipython",
    "version": 2
   },
   "file_extension": ".py",
   "mimetype": "text/x-python",
   "name": "python",
   "nbconvert_exporter": "python",
   "pygments_lexer": "ipython2",
   "version": "2.7.6"
  }
 },
 "nbformat": 4,
 "nbformat_minor": 0
}
